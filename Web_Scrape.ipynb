{
 "cells": [
  {
   "cell_type": "code",
   "execution_count": 18,
   "metadata": {
    "collapsed": true
   },
   "outputs": [
    {
     "name": "stdout",
     "output_type": "stream",
     "text": [
      "nt=\"\">\n    <meta name=\"copyright\" content=\"Copyright &#169; Cond&#233; Nast 2018\">\n    <meta name=\"description\" content=\"\">\n    <link rel=\"canonical\" href=\"https://www.golfdigest.com/gallery/americas-100-greatest-golf-courses-ranking\">\n    <meta name=\"keywords\" content=\"golf_courses,course_ranking,golf_digest,100_greatest,augusta_national,pine_valley,shinnecock,oakmont,cypress_point,pebble_beach,merion_(east),winged_foot_(west),sand_hills,fishers_island,crystal_downs,seminole,the_alotian_club,pacific_dunes,the_country_club,chicago_gc,whistling_straits,muirfield,streamsong,top_100_us_golf_courses_2015_2016,top_100_us_golf_courses,100greatest,course_reviews,gallery,americas_100_greatest_golf_courses_ranking\">\n    <meta name=\"news_keywords\" content=\"golf_courses,course_ranking,golf_digest,100_greatest,augusta_national,pine_valley,shinnecock,oakmont,cypress_point,pebble_beach,merion_(east),winged_foot_(west),sand_hills,fishers_island,crystal_downs,seminole,the_alotian_club,pacific_dunes,th\n"
     ]
    }
   ],
   "source": [
    "import requests\n",
    "r = requests.get('https://www.golfdigest.com/gallery/americas-100-greatest-golf-courses-ranking')\n",
    "#print(r.text[2000:3000])\n"
   ]
  },
  {
   "cell_type": "code",
   "execution_count": 25,
   "metadata": {},
   "outputs": [],
   "source": [
    "from bs4 import BeautifulSoup\n",
    "soup = BeautifulSoup(r.text, 'html.parser')\n"
   ]
  },
  {
   "cell_type": "code",
   "execution_count": 26,
   "metadata": {},
   "outputs": [
    {
     "name": "stdout",
     "output_type": "stream",
     "text": [
      "100\n"
     ]
    }
   ],
   "source": [
    "results = soup.find_all('div', attrs={'class':'listicle-item'})\n",
    "print(len(results))"
   ]
  },
  {
   "cell_type": "code",
   "execution_count": 28,
   "metadata": {},
   "outputs": [
    {
     "data": {
      "text/plain": [
       "<div class=\"listicle-item\" data-reactid=\"2974\"><div class=\"rendition-social-outer\" data-reactid=\"2975\"><div class=\"rendition-social-inner\" data-reactid=\"2976\"><span class=\"listicle-counter index\" data-reactid=\"2977\">100</span><h2 class=\"listicle-title\" data-reactid=\"2978\"><strong>EAGLE POINT G.C.</strong></h2><div class=\"component-lazy pending\" data-component=\"Lazy\" data-reactid=\"2979\"></div><div class=\"component-social-share listicle-share closed\" data-component=\"SocialShare\" data-reactid=\"2980\" role=\"list\"><div class=\"share-item facebook\" data-component=\"facebook\" data-href=\"https://www.facebook.com/sharer/sharer.php?u=&amp;t=\" data-reactid=\"2981\" role=\"listitem\"><a aria-label=\"Facebook share\" data-reactid=\"2982\" href=\"https://www.facebook.com/sharer/sharer.php?u=&amp;t=\" rel=\"noopener\" target=\"_blank\"><span class=\"icon\" data-reactid=\"2983\"></span><span class=\"label\" data-reactid=\"2984\">Facebook</span></a></div><div class=\"share-item twitter\" data-component=\"twitter\" data-href=\"https://twitter.com/share?text=&amp;url=\" data-reactid=\"2985\" role=\"listitem\"><a aria-label=\"Tweet\" data-reactid=\"2986\" href=\"https://twitter.com/share?text=&amp;url=\" rel=\"noopener\" target=\"_blank\"><span class=\"icon\" data-reactid=\"2987\"></span><span class=\"label\" data-reactid=\"2988\">Twitter</span></a></div><div class=\"share-item pinterest\" data-component=\"pinterest\" data-href=\"https://www.pinterest.com/pin/create/button/?url=&amp;media=https%3A%2F%2Fmedia.golfdigest.com%2Fphotos%2F5856c7a0ba03cefc46ca2253%2Fmaster%2Fpass%2F2017-99-Eagle-Point-GC-hole-5.jpg&amp;description=\" data-reactid=\"2989\" role=\"listitem\"><a aria-label=\"Pin\" data-pin-do=\"none\" data-reactid=\"2990\" href=\"https://www.pinterest.com/pin/create/button/?url=&amp;media=https%3A%2F%2Fmedia.golfdigest.com%2Fphotos%2F5856c7a0ba03cefc46ca2253%2Fmaster%2Fpass%2F2017-99-Eagle-Point-GC-hole-5.jpg&amp;description=\" rel=\"noopener\" target=\"_blank\"><span class=\"icon\" data-reactid=\"2991\"></span><span class=\"label\" data-reactid=\"2992\">Pinterest</span></a></div><div class=\"share-item email\" data-component=\"email\" data-href=\"mailto:?subject=&amp;body=\" data-reactid=\"2993\" role=\"listitem\"><a aria-label=\"Email\" data-reactid=\"2994\" href=\"mailto:?subject=&amp;body=\" rel=\"noopener\"><span class=\"icon\" data-reactid=\"2995\"></span><span class=\"label\" data-reactid=\"2996\">Email</span></a></div></div></div></div><div class=\"item-description\" data-reactid=\"2997\"><div class=\"listicle-caption\" data-reactid=\"2998\">7,259 Yards, Par\t72\t/ Points: 60.8223<br/>Wilmington, N.C. / Tom Fazio (2000)\n\n<p><a href=\"http://www.golfdigest.com/story/eagle-point-golf-club\"><strong>More about this course →</strong></a> </p>\n<hr/>\n<p><a href=\"http://www.golfdigest.com/gallery/americas-100-greatest-public-courses-ranking\">RELATED: 2017-18 Ranking: America's 100 Greatest Public Courses</a></p></div></div></div>"
      ]
     },
     "execution_count": 28,
     "metadata": {},
     "output_type": "execute_result"
    }
   ],
   "source": [
    "results[-1]"
   ]
  },
  {
   "cell_type": "code",
   "execution_count": 29,
   "metadata": {},
   "outputs": [
    {
     "data": {
      "text/plain": [
       "<div class=\"listicle-item\" data-reactid=\"121\"><div class=\"rendition-social-outer\" data-reactid=\"122\"><div class=\"rendition-social-inner\" data-reactid=\"123\"><span class=\"listicle-counter index\" data-reactid=\"124\">1</span><h2 class=\"listicle-title\" data-reactid=\"125\"><strong>PINE VALLEY G.C.</strong></h2><picture class=\"component-responsive-image\" data-reactid=\"126\"><source data-reactid=\"127\" media=\"(min-width: 1280px)\" srcset=\"https://media.golfdigest.com/photos/585054c3f9388fc41a893cac/master/w_868,c_limit/2017-01-Pine-Valley-GC-hole-15.jpg\"/><source data-reactid=\"128\" media=\"(min-width: 1024px)\" srcset=\"https://media.golfdigest.com/photos/585054c3f9388fc41a893cac/master/w_564,c_limit/2017-01-Pine-Valley-GC-hole-15.jpg\"/><source data-reactid=\"129\" media=\"(min-width: 768px)\" srcset=\"https://media.golfdigest.com/photos/585054c3f9388fc41a893cac/master/w_870,c_limit/2017-01-Pine-Valley-GC-hole-15.jpg\"/><source data-reactid=\"130\" srcset=\"https://media.golfdigest.com/photos/585054c3f9388fc41a893cac/master/w_640,c_limit/2017-01-Pine-Valley-GC-hole-15.jpg\"/><img alt=\"PINE VALLEY G.C.\" data-reactid=\"131\" src=\"https://media.golfdigest.com/photos/585054c3f9388fc41a893cac/master/w_640,c_limit/2017-01-Pine-Valley-GC-hole-15.jpg\" title=\"\"/></picture><div class=\"component-social-share listicle-share closed\" data-component=\"SocialShare\" data-reactid=\"132\" role=\"list\"><div class=\"share-item facebook\" data-component=\"facebook\" data-href=\"https://www.facebook.com/sharer/sharer.php?u=&amp;t=\" data-reactid=\"133\" role=\"listitem\"><a aria-label=\"Facebook share\" data-reactid=\"134\" href=\"https://www.facebook.com/sharer/sharer.php?u=&amp;t=\" rel=\"noopener\" target=\"_blank\"><span class=\"icon\" data-reactid=\"135\"></span><span class=\"label\" data-reactid=\"136\">Facebook</span></a></div><div class=\"share-item twitter\" data-component=\"twitter\" data-href=\"https://twitter.com/share?text=&amp;url=\" data-reactid=\"137\" role=\"listitem\"><a aria-label=\"Tweet\" data-reactid=\"138\" href=\"https://twitter.com/share?text=&amp;url=\" rel=\"noopener\" target=\"_blank\"><span class=\"icon\" data-reactid=\"139\"></span><span class=\"label\" data-reactid=\"140\">Twitter</span></a></div><div class=\"share-item pinterest\" data-component=\"pinterest\" data-href=\"https://www.pinterest.com/pin/create/button/?url=&amp;media=https%3A%2F%2Fmedia.golfdigest.com%2Fphotos%2F585054c3f9388fc41a893cac%2Fmaster%2Fpass%2F2017-01-Pine-Valley-GC-hole-15.jpg&amp;description=\" data-reactid=\"141\" role=\"listitem\"><a aria-label=\"Pin\" data-pin-do=\"none\" data-reactid=\"142\" href=\"https://www.pinterest.com/pin/create/button/?url=&amp;media=https%3A%2F%2Fmedia.golfdigest.com%2Fphotos%2F585054c3f9388fc41a893cac%2Fmaster%2Fpass%2F2017-01-Pine-Valley-GC-hole-15.jpg&amp;description=\" rel=\"noopener\" target=\"_blank\"><span class=\"icon\" data-reactid=\"143\"></span><span class=\"label\" data-reactid=\"144\">Pinterest</span></a></div><div class=\"share-item email\" data-component=\"email\" data-href=\"mailto:?subject=&amp;body=\" data-reactid=\"145\" role=\"listitem\"><a aria-label=\"Email\" data-reactid=\"146\" href=\"mailto:?subject=&amp;body=\" rel=\"noopener\"><span class=\"icon\" data-reactid=\"147\"></span><span class=\"label\" data-reactid=\"148\">Email</span></a></div></div></div></div><div class=\"item-description\" data-reactid=\"149\"><div class=\"listicle-caption\" data-reactid=\"150\">7,101 yards, Par 70 / Points: 71.8465<br/>Pine Valley, N.J./ George Crump &amp; H.S. Colt (1918)\n\n<p><a href=\"http://www.golfdigest.com/story/pine-valley-golf-club\"><strong>More about this course →</strong></a></p></div></div></div>"
      ]
     },
     "execution_count": 29,
     "metadata": {},
     "output_type": "execute_result"
    }
   ],
   "source": [
    "first_result = results[0]\n",
    "first_result"
   ]
  },
  {
   "cell_type": "code",
   "execution_count": 31,
   "metadata": {},
   "outputs": [
    {
     "data": {
      "text/plain": [
       "'PINE VALLEY G.C.'"
      ]
     },
     "execution_count": 31,
     "metadata": {},
     "output_type": "execute_result"
    }
   ],
   "source": [
    "first_result.find('strong').text"
   ]
  },
  {
   "cell_type": "code",
   "execution_count": 40,
   "metadata": {},
   "outputs": [
    {
     "data": {
      "text/plain": [
       "'7,101 yards, Par 70 / Points: 71.8465Pine Valley, N.J./ George Crump & H.S. Colt (1918)\\n\\nMore about this course →'"
      ]
     },
     "execution_count": 40,
     "metadata": {},
     "output_type": "execute_result"
    }
   ],
   "source": [
    "caption = first_result.find('div', attrs={'class':'listicle-caption'})\n",
    "caption.text"
   ]
  },
  {
   "cell_type": "code",
   "execution_count": 43,
   "metadata": {},
   "outputs": [],
   "source": [
    "records = []\n",
    "for result in results:\n",
    "    name = result.find('strong').text\n",
    "    description = result.find('div', attrs={'class':'listicle-caption'}).text\n",
    "    records.append((name, description))"
   ]
  },
  {
   "cell_type": "code",
   "execution_count": 48,
   "metadata": {},
   "outputs": [
    {
     "name": "stdout",
     "output_type": "stream",
     "text": [
      "             Course Name                                        Description\n0       PINE VALLEY G.C.  7,101 yards, Par 70 / Points: 71.8465Pine Vall...\n1  AUGUSTA NATIONAL G.C.  7,435 yards, Par \\t72\\t/  Points: 71.7453Augus...\n2     CYPRESS POINT CLUB  6,524 yards, Par\\t72 / Points: 69.5123Pebble B...\n3  SHINNECOCK HILLS G.C.  7,450 yards, Par\\t70 / Points: 69.2301Southamp...\n4           OAKMONT C.C.  7,254 Yards, Par\\t71 / Points: 68.6791Oakmont,...\n"
     ]
    }
   ],
   "source": [
    "import pandas as pd\n",
    "df = pd.DataFrame(records, columns=['Course Name', 'Description'])\n"
   ]
  },
  {
   "cell_type": "code",
   "execution_count": 49,
   "metadata": {},
   "outputs": [
    {
     "ename": "AttributeError",
     "evalue": "module 'pandas' has no attribute 'to_csv'",
     "traceback": [
      "\u001b[0;31m---------------------------------------------------------------------------\u001b[0m",
      "\u001b[0;31mAttributeError\u001b[0m                            Traceback (most recent call last)",
      "\u001b[0;32m<ipython-input-49-b4e9a4598aa0>\u001b[0m in \u001b[0;36m<module>\u001b[0;34m()\u001b[0m\n\u001b[0;32m----> 1\u001b[0;31m \u001b[0mdf\u001b[0m \u001b[0;34m=\u001b[0m \u001b[0mpd\u001b[0m\u001b[0;34m.\u001b[0m\u001b[0mto_csv\u001b[0m\u001b[0;34m(\u001b[0m\u001b[0;34m'Top-100.csv'\u001b[0m\u001b[0;34m,\u001b[0m \u001b[0mindex\u001b[0m\u001b[0;34m=\u001b[0m\u001b[0;32mFalse\u001b[0m\u001b[0;34m,\u001b[0m \u001b[0mencoding\u001b[0m\u001b[0;34m=\u001b[0m\u001b[0;34m'utf-8'\u001b[0m\u001b[0;34m)\u001b[0m\u001b[0;34m\u001b[0m\u001b[0;34m\u001b[0m\u001b[0m\n\u001b[0m",
      "\u001b[0;31mAttributeError\u001b[0m: module 'pandas' has no attribute 'to_csv'"
     ],
     "output_type": "error"
    }
   ],
   "source": [
    "df = pd.to_csv('Top-100.csv', index=False, encoding='utf-8')"
   ]
  },
  {
   "cell_type": "code",
   "execution_count": 1,
   "metadata": {},
   "outputs": [],
   "source": [
    "import requests\n",
    "r = requests.get('https://www.golfdigest.com/gallery/americas-100-greatest-golf-courses-ranking')\n",
    "\n",
    "from bs4 import BeautifulSoup\n",
    "soup = BeautifulSoup(r.text, 'html.parser')\n",
    "results = soup.find_all('div', attrs={'class':'listicle-item'})\n",
    "\n",
    "records = []\n",
    "for result in results:\n",
    "    name = result.find('strong').text\n",
    "    description = result.find('div', attrs={'class':'listicle-caption'}).text\n",
    "    records.append((name, description))\n",
    "    \n",
    "import pandas as pd\n",
    "df = pd.DataFrame(records, columns=['Course Name', 'Description'])\n",
    "df = df.to_csv('Top-100-2019.csv', index=False, encoding='utf-8')"
   ]
  },
  {
   "cell_type": "code",
   "execution_count": 4,
   "metadata": {},
   "outputs": [
    {
     "data": {
      "text/plain": [
       "0"
      ]
     },
     "execution_count": 4,
     "metadata": {},
     "output_type": "execute_result"
    }
   ],
   "source": [
    ""
   ]
  },
  {
   "cell_type": "code",
   "execution_count": null,
   "metadata": {},
   "outputs": [],
   "source": []
  }
 ],
 "metadata": {
  "kernelspec": {
   "display_name": "Python 2",
   "language": "python",
   "name": "python2"
  },
  "language_info": {
   "codemirror_mode": {
    "name": "ipython",
    "version": 2
   },
   "file_extension": ".py",
   "mimetype": "text/x-python",
   "name": "python",
   "nbconvert_exporter": "python",
   "pygments_lexer": "ipython2",
   "version": "2.7.6"
  }
 },
 "nbformat": 4,
 "nbformat_minor": 0
}
